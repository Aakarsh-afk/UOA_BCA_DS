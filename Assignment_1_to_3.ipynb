{
 "cells": [
  {
   "cell_type": "markdown",
   "id": "81a37d36",
   "metadata": {},
   "source": [
    "# Assignment-1 TOTAL NUMBER OF QUESTIONS: 4\n",
    "# Date of Allotment: 2025-09-08"
   ]
  },
  {
   "cell_type": "code",
   "execution_count": 12,
   "id": "8e12a2aa",
   "metadata": {},
   "outputs": [
    {
     "name": "stdout",
     "output_type": "stream",
     "text": [
      "Name: Jitendra\n",
      "Date of Birth: 09-02-2005\n",
      "Father's Name: Birendra Kumar\n",
      "Address: Prayagraj\n",
      "Email: jitendrafromprayag@gmail.com\n",
      "Education: Graduation (BCA DS)\n",
      "Hobbies: Playing Video Games, Watching Webseries and Movie\n"
     ]
    }
   ],
   "source": [
    "# QUESTION-1\n",
    "# Write a program to print your resume or biodata.\n",
    "\n",
    "#Code\n",
    "Name = input(\"Enter your name\")\n",
    "Dateofbirth = input(\"Enter your date of birth\")\n",
    "Fathersname = input(\"Enter your father's name\")\n",
    "Address = input(\"Enter your address\")\n",
    "Email = input(\"Enter your email\")\n",
    "Education = input(\"Enter your education details\")\n",
    "Hobbies = input(\"Enter your hobbies\")\n",
    "\n",
    "print(\"Name:\", Name)\n",
    "print(\"Date of Birth:\", Dateofbirth)\n",
    "print(\"Father's Name:\", Fathersname)\n",
    "print(\"Address:\", Address)\n",
    "print(\"Email:\", Email)\n",
    "print(\"Education:\", Education)\n",
    "print(\"Hobbies:\", Hobbies)"
   ]
  },
  {
   "cell_type": "code",
   "execution_count": 1,
   "id": "fc8ffed1",
   "metadata": {},
   "outputs": [
    {
     "name": "stdout",
     "output_type": "stream",
     "text": [
      "The result of addition is: 30\n"
     ]
    }
   ],
   "source": [
    "# QUESTION-2\n",
    "# Write a program to perform the following operations ADDITION, SUBTRACTION, MULTIPLICATION, AND DIVISION.\n",
    "\n",
    "#Code\n",
    "\n",
    "var_1 = int(input(\"Enter first number: \"))\n",
    "var_2 = int(input(\"Enter second number: \"))\n",
    "\n",
    "choice = input(\"Enter the operation you want to perform (+, -, *, /): \")\n",
    "\n",
    "if choice == '+':\n",
    "    result = var_1 + var_2\n",
    "    print(\"The result of addition is:\", result)\n",
    "elif choice == '-':\n",
    "    result = var_1 - var_2\n",
    "    print(\"The result of subtraction is:\", result)\n",
    "elif choice == '*':\n",
    "    result = var_1 * var_2\n",
    "    print(\"The result of multiplication is:\", result)\n",
    "elif choice == '/':\n",
    "    if var_2 != 0:\n",
    "        result = var_1 / var_2\n",
    "        print(\"The result of division is:\", result)\n",
    "    else:\n",
    "        print(\"Error: Division by zero is not allowed.\")\n",
    "else:\n",
    "    print(\"Please enter a valid operation.\")"
   ]
  },
  {
   "cell_type": "code",
   "execution_count": 4,
   "id": "eb43f780",
   "metadata": {},
   "outputs": [
    {
     "name": "stdout",
     "output_type": "stream",
     "text": [
      "No Profit No Loss\n"
     ]
    }
   ],
   "source": [
    "# QUESTION-3\n",
    "# Write a program in python to find the profit and loss of a product.\n",
    "\n",
    "#Code\n",
    "cost_price = float(input(\"Enter the cost price of the product: \"))\n",
    "selling_price = float(input(\"Enter the selling price of the product: \"))\n",
    "profit_or_loss = cost_price - selling_price\n",
    "if profit_or_loss < 0:\n",
    "    print(\"It's Profit:\", profit_or_loss)\n",
    "elif profit_or_loss > 0:\n",
    "    print(\"It's Loss:\", profit_or_loss)\n",
    "else:\n",
    "    print(\"No Profit No Loss\")"
   ]
  },
  {
   "cell_type": "code",
   "execution_count": 7,
   "id": "0fe8a6ba",
   "metadata": {},
   "outputs": [],
   "source": [
    "# QUESTION-4\n",
    "# "
   ]
  },
  {
   "cell_type": "markdown",
   "id": "f6ea48ce",
   "metadata": {},
   "source": [
    "# Assignment- 2 TOTAL NUMBER OF QUESTIONS: 3\n",
    "# DATE OF ALLOTMENT: 2025-09-09\n",
    "\n",
    "\n"
   ]
  },
  {
   "cell_type": "code",
   "execution_count": 1,
   "id": "466d9248",
   "metadata": {},
   "outputs": [
    {
     "name": "stdout",
     "output_type": "stream",
     "text": [
      "Before swapping: a = 10 b = 20\n",
      "After swapping: a = 20 b = 10\n"
     ]
    }
   ],
   "source": [
    "# QUESTION-1\n",
    "# SWAPPING TWO VARIABLES WITH AND WITHOUT USING THIRD VARIABLE\n",
    "\n",
    "# CODE:\n",
    "# SWAPPING WITHOUT USING THIRD VARIABLE\n",
    "\n",
    "a = int(input(\"Enter first number: \"))\n",
    "b = int(input(\"Enter second number: \"))\n",
    "print(\"Before swapping: a =\", a, \"b =\", b)\n",
    "a, b = b, a\n",
    "print(\"After swapping: a =\", a, \"b =\", b)"
   ]
  },
  {
   "cell_type": "code",
   "execution_count": 1,
   "id": "1ce2f849",
   "metadata": {},
   "outputs": [
    {
     "name": "stdout",
     "output_type": "stream",
     "text": [
      "2000 is a leap year.\n"
     ]
    }
   ],
   "source": [
    "# QUESTION- 2 \n",
    "# WRITE A PROGRAM TO CHECK WHETHER A YEAR IS LEAP YEAR OR NOT\n",
    "\n",
    "# CODE\n",
    "\n",
    "year = int(input(\"Enter a year: \"))\n",
    "if (year % 4 == 0 and year % 100 != 0) or (year % 400 == 0):\n",
    "    print(year, \"is a leap year.\")\n",
    "else:\n",
    "    print(year, \"is not a leap year.\")"
   ]
  },
  {
   "cell_type": "code",
   "execution_count": null,
   "id": "400ed3ea",
   "metadata": {},
   "outputs": [
    {
     "name": "stdout",
     "output_type": "stream",
     "text": [
      "80.0 Celsius is equal to 176.00 Fahrenheit.\n"
     ]
    }
   ],
   "source": [
    "# QUESTION- 3\n",
    "# WRITE A PROGRAM TO CONVERT TEMPERATURE FROM CELSIUS TO FAHRENHEIT AND FAHRENHEIT TO CELSIUS\n",
    "\n",
    "# CODE\n",
    "\n",
    "temp = float(input(\"Enter temperature: \"))\n",
    "choose = input(\"Enter 'C' to convert to Celsius and 'F' to convert to Fahrenheit: \")\n",
    "if choose.upper() == 'C':\n",
    "    celsius = (temp - 32) * (5/9)\n",
    "    print(f\"{temp} Fahrenheit is equal to {celsius:.2f} Celsius.\")\n",
    "elif choose.upper() == 'F':\n",
    "    fahrenheit = (temp * (9/5)) + 32\n",
    "    print(f\"{temp} Celsius is equal to {fahrenheit:.2f} Fahrenheit.\")\n",
    "else:\n",
    "    print(\"Invalid input\")"
   ]
  },
  {
   "cell_type": "markdown",
   "id": "17b832c6",
   "metadata": {},
   "source": [
    "# Assignment- 3 Total number of questions -6\n",
    "# Date of Allotment - 17-09-2025"
   ]
  },
  {
   "cell_type": "code",
   "execution_count": null,
   "id": "943a83e0",
   "metadata": {},
   "outputs": [
    {
     "name": "stdout",
     "output_type": "stream",
     "text": [
      "The greatest number is: 20.0\n",
      "The greatest number is: 50.0\n"
     ]
    }
   ],
   "source": [
    "# Question-1 \n",
    "# Write a program in python to find out the greatest no between two numbers and 3 numbers.\n",
    "\n",
    "# Code\n",
    "\n",
    "a = float(input(\"Enter first number: \"))\n",
    "b = float(input(\"Enter second number: \"))\n",
    "\n",
    "if a > b:\n",
    "    print(\"The greatest number is:\", a)\n",
    "elif b > a:\n",
    "    print(\"The greatest number is: \", b)\n",
    "else:\n",
    "    print(\"Both numbers are equal.\")\n",
    "\n",
    "# for three numbers\n",
    "\n",
    "x = float(input(\"Enter first number: \"))\n",
    "y = float(input(\"Enter second number: \"))\n",
    "z = float(input(\"Enter third number: \"))\n",
    "if x > y and x > z:\n",
    "    print(\"The greatest number is:\", x)\n",
    "elif y > x and y > z:\n",
    "    print(\"The greatest number is:\", y)\n",
    "elif z > x and z > y:\n",
    "    print(\"The greatest number is:\", z)\n",
    "else:\n",
    "    print(\"All numbers are equal.\")"
   ]
  },
  {
   "cell_type": "code",
   "execution_count": 2,
   "id": "3db8cd78",
   "metadata": {},
   "outputs": [
    {
     "name": "stdout",
     "output_type": "stream",
     "text": [
      "Both numbers are equal\n",
      "All numbers are equal\n"
     ]
    }
   ],
   "source": [
    "# Question-2 \n",
    "# Write a program in python to find out the smallest number between two numbers and 3 numbers.\n",
    "\n",
    "# Code\n",
    "\n",
    "# for two numbers\n",
    "\n",
    "x = float(input(\"Enter first number: \"))\n",
    "y = float(input(\"Enter second number: \"))\n",
    "\n",
    "if x < y:\n",
    "    print(\"The smallest number is:\", x)\n",
    "elif y < x:\n",
    "    print(\"The smallest number is:\", y)\n",
    "else:\n",
    "    print(\"Both numbers are equal\")\n",
    "\n",
    "# for three numbers\n",
    "\n",
    "num_1 = float(input(\"Enter first number: \"))\n",
    "num_2 = float(input(\"Enter second number: \"))\n",
    "num_3 = float(input(\"Enter third number: \"))\n",
    "if num_1 < num_2 and num_1 < num_3:\n",
    "    print(\"The smallest number is:\", num_1)\n",
    "elif num_2 < num_1 and num_2 < num_3:\n",
    "    print(\"The smallest number is:\", num_2)\n",
    "elif num_3 < num_1 and num_3 < num_2:\n",
    "    print(\"The smallest number is:\", num_3)\n",
    "else:\n",
    "    print(\"All numbers are equal\")"
   ]
  },
  {
   "cell_type": "code",
   "execution_count": 4,
   "id": "cf7c16bc",
   "metadata": {},
   "outputs": [
    {
     "name": "stdout",
     "output_type": "stream",
     "text": [
      "The number is negative\n"
     ]
    }
   ],
   "source": [
    "# Question- 3 \n",
    "# Write a program in python to find out whether the given number is positive, negative or zero.\n",
    "\n",
    "# Code\n",
    "\n",
    "number = float(input(\"Enter a number: \"))\n",
    "if number > 0:\n",
    "    print(\"The number is positive\")\n",
    "elif number < 0:\n",
    "    print(\"The number is negative\")\n",
    "else:\n",
    "    print(\"The number is zero\")"
   ]
  },
  {
   "cell_type": "code",
   "execution_count": 10,
   "id": "885ec19f",
   "metadata": {},
   "outputs": [
    {
     "name": "stdout",
     "output_type": "stream",
     "text": [
      "The number is neither even nor odd\n"
     ]
    }
   ],
   "source": [
    "# Question- 4\n",
    "# Write a program in python to find out whether the given number is even or odd.\n",
    "\n",
    "# Code\n",
    "\n",
    "num = int(input(\"Enter a number: \"))\n",
    "if num == 0:\n",
    "    print(\"The number is neither even nor odd\")\n",
    "elif num % 2 == 0:\n",
    "    print(\"The number is even\")\n",
    "elif num % 2 != 0:\n",
    "    print(\"The number is odd\")\n"
   ]
  },
  {
   "cell_type": "code",
   "execution_count": null,
   "id": "b518abc6",
   "metadata": {},
   "outputs": [
    {
     "name": "stdout",
     "output_type": "stream",
     "text": [
      "The day is: Friday\n"
     ]
    }
   ],
   "source": [
    "# Question- 5\n",
    "# Write a program in python to print a name of days of week using if,else statement.\n",
    "\n",
    "# Code\n",
    "\n",
    "List_of_days = [\"Monday\", \"Tuesday\", \"Wednesday\", \"Thursday\", \"Friday\", \"Saturday\", \"Sunday\"]\n",
    "day_number = int(input(\"Enter a number (1-7) to get the corresponding day of the week: \"))\n",
    "if day_number == 1:\n",
    "    print(\"The day is:\", List_of_days[0])\n",
    "elif day_number == 2:\n",
    "    print(\"The day is:\", List_of_days[1])\n",
    "elif day_number == 3:\n",
    "    print(\"The day is:\", List_of_days[2])\n",
    "elif day_number == 4:\n",
    "    print(\"The day is:\", List_of_days[3])\n",
    "elif day_number == 5:\n",
    "    print(\"The day is:\", List_of_days[4])\n",
    "elif day_number == 6:\n",
    "    print(\"The day is:\", List_of_days[5])\n",
    "elif day_number == 7:\n",
    "    print(\"The day is:\", List_of_days[6])\n",
    "else:\n",
    "    print(\"Please enter a valid number\")"
   ]
  },
  {
   "cell_type": "code",
   "execution_count": null,
   "id": "765bb151",
   "metadata": {},
   "outputs": [
    {
     "name": "stdout",
     "output_type": "stream",
     "text": [
      "10 X 1 = 10\n",
      "10 X 2 = 20\n",
      "10 X 3 = 30\n",
      "10 X 4 = 40\n",
      "10 X 5 = 50\n",
      "10 X 6 = 60\n",
      "10 X 7 = 70\n",
      "10 X 8 = 80\n",
      "10 X 9 = 90\n",
      "10 X 10 = 100\n"
     ]
    }
   ],
   "source": [
    "# Question- 6 \n",
    "# Write a program in python to print the table of a given number.\n",
    "\n",
    "# Code\n",
    "\n",
    "num = int(input(\"Enter a number to print its table: \"))\n",
    "for i in range(1, 11):\n",
    "    print(f\"{num} X {i} = {num * i}\")\n",
    "\n",
    "print(\"The table has been successfully printed\")\n",
    "print('Thankyou for using this program')\n",
    " "
   ]
  }
 ],
 "metadata": {
  "kernelspec": {
   "display_name": ".venv",
   "language": "python",
   "name": "python3"
  },
  "language_info": {
   "codemirror_mode": {
    "name": "ipython",
    "version": 3
   },
   "file_extension": ".py",
   "mimetype": "text/x-python",
   "name": "python",
   "nbconvert_exporter": "python",
   "pygments_lexer": "ipython3",
   "version": "3.12.6"
  }
 },
 "nbformat": 4,
 "nbformat_minor": 5
}
